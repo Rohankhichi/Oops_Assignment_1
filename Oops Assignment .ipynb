{
 "cells": [
  {
   "cell_type": "markdown",
   "id": "5d0adbc5-ceb1-4f18-9edf-0633ae274d49",
   "metadata": {},
   "source": [
    "Q1, Create a vehicle class with an init method having instance variables as name_of_vehicle, max_speed\n",
    "and average_of_vehicle."
   ]
  },
  {
   "cell_type": "code",
   "execution_count": 1,
   "id": "b11158c4-dbe5-48ea-86ab-4097fcfa1c4a",
   "metadata": {},
   "outputs": [],
   "source": [
    "class vehicle :\n",
    "    \n",
    "    def __init__(self, name_of_vehicle, max_speed, average_of_vehicle):\n",
    "        self.name_of_vehicle = name_of_vehicle\n",
    "        self.max_speed = max_speed\n",
    "        self.average_of_vehicle = average_of_vehicle"
   ]
  },
  {
   "cell_type": "code",
   "execution_count": 3,
   "id": "79cd78f1-a816-44a1-9614-5339b6dc2b0b",
   "metadata": {},
   "outputs": [],
   "source": [
    "obj_vehicle = vehicle(\"Mahindra\", 160, 40)"
   ]
  },
  {
   "cell_type": "code",
   "execution_count": 5,
   "id": "a32b266b-4977-453e-b576-30bc9d514814",
   "metadata": {},
   "outputs": [
    {
     "data": {
      "text/plain": [
       "'Mahindra'"
      ]
     },
     "execution_count": 5,
     "metadata": {},
     "output_type": "execute_result"
    }
   ],
   "source": [
    "obj_vehicle.name_of_vehicle"
   ]
  },
  {
   "cell_type": "markdown",
   "id": "32da3ff7-be81-43cf-a2d3-825e2d9b9e05",
   "metadata": {},
   "source": [
    "Q2. Create a child class car from the vehicle class created in Que 1, which will inherit the vehicle class.\n",
    "Create a method named seating_capacity which takes capacity as an argument and returns the name of\n",
    "the vehicle and its seating capacity."
   ]
  },
  {
   "cell_type": "code",
   "execution_count": 6,
   "id": "86bef06a-fe17-44ff-a3e0-73deb0d5d7ec",
   "metadata": {},
   "outputs": [],
   "source": [
    "class seating_capacity(vehicle) :\n",
    "    \n",
    "    def seat(self) :\n",
    "        return \"5 Seats are available\""
   ]
  },
  {
   "cell_type": "code",
   "execution_count": 10,
   "id": "8ac83180-f99a-4dfb-ac7c-02e7324e7f28",
   "metadata": {},
   "outputs": [],
   "source": [
    "obj_vehicle = seating_capacity(\"Mahindra\", 160, 40, )"
   ]
  },
  {
   "cell_type": "code",
   "execution_count": 11,
   "id": "d0cc0eb9-07ec-4166-9d2e-da772fad679c",
   "metadata": {},
   "outputs": [
    {
     "data": {
      "text/plain": [
       "'5 Seats are available'"
      ]
     },
     "execution_count": 11,
     "metadata": {},
     "output_type": "execute_result"
    }
   ],
   "source": [
    "obj_vehicle.seat()"
   ]
  },
  {
   "cell_type": "markdown",
   "id": "a6b2a727-5b9b-43db-95dc-5298ce3fef88",
   "metadata": {},
   "source": [
    "Q3. What is multiple inheritance? Write a python code to demonstrate multiple Inheritance"
   ]
  },
  {
   "cell_type": "code",
   "execution_count": 14,
   "id": "420ffcfa-2e76-45eb-b366-845dac26dee1",
   "metadata": {},
   "outputs": [],
   "source": [
    "#multiple inheritence is the technique to access the parent class properties.\n",
    "class class1 :\n",
    "    def test(self):\n",
    "        pass\n",
    "    \n",
    "class class2 :\n",
    "    def test2(self):\n",
    "        pass\n",
    "    \n",
    "class class3:\n",
    "    def test3(self):\n",
    "        pass\n",
    "    \n",
    "class class4(class3) :\n",
    "    def test4(self):\n",
    "        pass    \n",
    "    "
   ]
  },
  {
   "cell_type": "markdown",
   "id": "29bebb08-d2af-44e6-b118-423e2925573e",
   "metadata": {},
   "source": [
    "Q4. What are getter and setter in python? Create a class and create a getter and a setter method in this\n",
    "class."
   ]
  },
  {
   "cell_type": "markdown",
   "id": "a68fcfd8-6afc-4918-a67e-a3345182de37",
   "metadata": {},
   "source": [
    "In Python, getters and setters are not the same as those in other object-oriented programming languages. Basically, the main purpose of using getters and setters in object-oriented programs is to ensure data encapsulation. Private variables in python are not actually hidden fields like in other object oriented languages. Getters and Setters in python are often used when:\n",
    "\n",
    "We use getters & setters to add validation logic around getting and setting a value.\n",
    "To avoid direct access of a class field i.e. private variables cannot be accessed directly or modified by external user.\n",
    "Using normal function to achieve getters and setters behaviour\n",
    "\n",
    "To achieve getters & setters property, if we define normal get() and set() methods it will not reflect any special implementation.\n"
   ]
  },
  {
   "cell_type": "code",
   "execution_count": 5,
   "id": "40da1c1d-4dc5-4c83-8ea8-f35385fdcc38",
   "metadata": {},
   "outputs": [],
   "source": [
    "class Data_Science :\n",
    "    \n",
    "    def __init__(self, Fee = 0):\n",
    "        self._Fee = Fee\n",
    "        \n",
    "    def get_age(self) :\n",
    "        return self.age\n",
    "    \n",
    "    def set_age(self,x):\n",
    "        self.age = x\n",
    "        "
   ]
  },
  {
   "cell_type": "code",
   "execution_count": 6,
   "id": "27e6ca48-86a9-46c3-97eb-2fab47bc22d7",
   "metadata": {},
   "outputs": [],
   "source": [
    "Rohan = Data_Science()"
   ]
  },
  {
   "cell_type": "code",
   "execution_count": 8,
   "id": "b36d588e-952d-4f68-974f-07855f017a01",
   "metadata": {},
   "outputs": [],
   "source": [
    "Rohan.set_age(21)"
   ]
  },
  {
   "cell_type": "code",
   "execution_count": 10,
   "id": "5e0d8de5-d7ec-499c-8e4f-053d8de19009",
   "metadata": {},
   "outputs": [
    {
     "name": "stdout",
     "output_type": "stream",
     "text": [
      "21\n"
     ]
    }
   ],
   "source": [
    "print(Rohan.age)"
   ]
  },
  {
   "cell_type": "markdown",
   "id": "bd3c5b79-9e0a-422d-a0e8-012c1bb56fe3",
   "metadata": {},
   "source": [
    "Q5.What is method overriding in python? Write a python code to demonstrate method overriding."
   ]
  },
  {
   "cell_type": "markdown",
   "id": "bf38d28f-ac7a-42ea-a4ba-94a27cc8142d",
   "metadata": {},
   "source": [
    "Method overriding is an ability of any object-oriented programming language that allows a subclass or child class to provide a specific implementation of a method that is already provided by one of its super-classes or parent classes. When a method in a subclass has the same name, same parameters or signature and same return type(or sub-type) as a method in its super-class, then the method in the subclass is said to override the method in the super-class."
   ]
  },
  {
   "cell_type": "code",
   "execution_count": 11,
   "id": "d553b8bb-676f-4d5f-b82e-4c9c395a3fc5",
   "metadata": {},
   "outputs": [],
   "source": [
    "class parent :\n",
    "    \n",
    "    def __init__(self):\n",
    "        self.value = \"Inside parent\"\n",
    "        \n",
    "    def show(self):\n",
    "        print(self.value)"
   ]
  },
  {
   "cell_type": "code",
   "execution_count": 12,
   "id": "de367d82-39b6-424c-9228-6da271d446ac",
   "metadata": {},
   "outputs": [],
   "source": [
    "class child(parent):\n",
    "    \n",
    "    def __init__(self):\n",
    "        self.value = \"Inside child\"\n",
    "        \n",
    "    def show(self) :\n",
    "        print(self.value)"
   ]
  },
  {
   "cell_type": "code",
   "execution_count": 13,
   "id": "e0aa14ec-2476-4199-97d1-dd6bbb84faa8",
   "metadata": {},
   "outputs": [],
   "source": [
    "obj = parent()\n",
    "obj1 = child()"
   ]
  },
  {
   "cell_type": "code",
   "execution_count": 14,
   "id": "5e2e19c8-b02a-4715-9665-46dfdcc8ba01",
   "metadata": {},
   "outputs": [
    {
     "name": "stdout",
     "output_type": "stream",
     "text": [
      "Inside parent\n"
     ]
    }
   ],
   "source": [
    "obj.show()"
   ]
  },
  {
   "cell_type": "code",
   "execution_count": 16,
   "id": "2a297ac1-b688-48c8-ba86-77a3904099f2",
   "metadata": {},
   "outputs": [
    {
     "data": {
      "text/plain": [
       "'Inside child'"
      ]
     },
     "execution_count": 16,
     "metadata": {},
     "output_type": "execute_result"
    }
   ],
   "source": [
    "obj1.value"
   ]
  },
  {
   "cell_type": "code",
   "execution_count": 17,
   "id": "8b587244-4ae2-4dc2-82a7-245530899b0c",
   "metadata": {},
   "outputs": [
    {
     "name": "stdout",
     "output_type": "stream",
     "text": [
      "Inside child\n"
     ]
    }
   ],
   "source": [
    "obj1.show()"
   ]
  },
  {
   "cell_type": "code",
   "execution_count": null,
   "id": "d0753df5-a2b6-4839-9d0e-9e04b065b55c",
   "metadata": {},
   "outputs": [],
   "source": []
  }
 ],
 "metadata": {
  "kernelspec": {
   "display_name": "Python 3 (ipykernel)",
   "language": "python",
   "name": "python3"
  },
  "language_info": {
   "codemirror_mode": {
    "name": "ipython",
    "version": 3
   },
   "file_extension": ".py",
   "mimetype": "text/x-python",
   "name": "python",
   "nbconvert_exporter": "python",
   "pygments_lexer": "ipython3",
   "version": "3.10.8"
  }
 },
 "nbformat": 4,
 "nbformat_minor": 5
}
